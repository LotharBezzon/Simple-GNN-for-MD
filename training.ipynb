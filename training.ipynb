{
 "cells": [
  {
   "cell_type": "code",
   "execution_count": 46,
   "metadata": {},
   "outputs": [],
   "source": [
    "from torch_geometric.loader import DataLoader\n",
    "import torch\n",
    "from torch_geometric.loader import DataLoader\n",
    "from DataProcessing import read_data, make_SchNetlike_graphs\n",
    "from models import GATNetwork\n",
    "from sklearn.model_selection import train_test_split\n",
    "from training import train, test"
   ]
  },
  {
   "cell_type": "code",
   "execution_count": 29,
   "metadata": {},
   "outputs": [],
   "source": [
    "data = read_data('data/dump.1.lammpstrj')"
   ]
  },
  {
   "cell_type": "code",
   "execution_count": 30,
   "metadata": {},
   "outputs": [],
   "source": [
    "graphs = make_SchNetlike_graphs(data)"
   ]
  },
  {
   "cell_type": "code",
   "execution_count": 31,
   "metadata": {},
   "outputs": [],
   "source": [
    "train_graphs, test_graphs = train_test_split(graphs, test_size=0.1, random_state=42)\n",
    "\n",
    "train_loader = DataLoader(train_graphs, batch_size=10, shuffle=True)\n",
    "test_loader = DataLoader(test_graphs, batch_size=10)"
   ]
  },
  {
   "cell_type": "code",
   "execution_count": 32,
   "metadata": {},
   "outputs": [],
   "source": [
    "model = GATNetwork(1, 3)\n",
    "optimizer = torch.optim.Adam(model.parameters(), lr=0.001)\n",
    "lossFunc = torch.nn.MSELoss()"
   ]
  },
  {
   "cell_type": "code",
   "execution_count": 40,
   "metadata": {},
   "outputs": [],
   "source": [
    "out = model(graphs[0])  # Forward pass.\n",
    "loss = lossFunc(out, graphs[0].y)  # Loss computation."
   ]
  },
  {
   "cell_type": "code",
   "execution_count": 48,
   "metadata": {},
   "outputs": [
    {
     "ename": "TypeError",
     "evalue": "train() takes 3 positional arguments but 4 were given",
     "output_type": "error",
     "traceback": [
      "\u001b[1;31m---------------------------------------------------------------------------\u001b[0m",
      "\u001b[1;31mTypeError\u001b[0m                                 Traceback (most recent call last)",
      "Cell \u001b[1;32mIn[48], line 4\u001b[0m\n\u001b[0;32m      2\u001b[0m train_losses \u001b[38;5;241m=\u001b[39m []\n\u001b[0;32m      3\u001b[0m \u001b[38;5;28;01mfor\u001b[39;00m epoch \u001b[38;5;129;01min\u001b[39;00m \u001b[38;5;28mrange\u001b[39m(\u001b[38;5;241m1\u001b[39m, \u001b[38;5;241m100\u001b[39m ):\n\u001b[1;32m----> 4\u001b[0m     loss \u001b[38;5;241m=\u001b[39m \u001b[43mtrain\u001b[49m\u001b[43m(\u001b[49m\u001b[43mmodel\u001b[49m\u001b[43m,\u001b[49m\u001b[43m \u001b[49m\u001b[43moptimizer\u001b[49m\u001b[43m,\u001b[49m\u001b[43m \u001b[49m\u001b[43mtrain_loader\u001b[49m\u001b[43m,\u001b[49m\u001b[43m \u001b[49m\u001b[43mlossFunc\u001b[49m\u001b[43m)\u001b[49m\n\u001b[0;32m      5\u001b[0m     test_loss \u001b[38;5;241m=\u001b[39m test(model, test_loader, lossFunc)\n\u001b[0;32m      6\u001b[0m     test_losses\u001b[38;5;241m.\u001b[39mappend(test_loss)\n",
      "\u001b[1;31mTypeError\u001b[0m: train() takes 3 positional arguments but 4 were given"
     ]
    }
   ],
   "source": [
    "test_losses = []\n",
    "train_losses = []\n",
    "for epoch in range(1, 100 ):\n",
    "    loss = train(model, optimizer, train_loader, lossFunc)\n",
    "    test_loss = test(model, test_loader, lossFunc)\n",
    "    test_losses.append(test_loss)\n",
    "    train_losses.append(loss)\n",
    "    print(f'Epoch: {epoch:02d}, Train Loss: {loss:.4f}, Test Loss: {test_loss:.4f}')"
   ]
  }
 ],
 "metadata": {
  "kernelspec": {
   "display_name": "Python 3",
   "language": "python",
   "name": "python3"
  },
  "language_info": {
   "codemirror_mode": {
    "name": "ipython",
    "version": 3
   },
   "file_extension": ".py",
   "mimetype": "text/x-python",
   "name": "python",
   "nbconvert_exporter": "python",
   "pygments_lexer": "ipython3",
   "version": "3.9.7"
  }
 },
 "nbformat": 4,
 "nbformat_minor": 2
}
